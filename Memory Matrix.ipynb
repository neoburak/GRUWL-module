{
 "cells": [
  {
   "cell_type": "markdown",
   "id": "634a9f5b",
   "metadata": {},
   "source": [
    "# Matrix Memory Model"
   ]
  },
  {
   "cell_type": "code",
   "execution_count": 9,
   "id": "c51a229b",
   "metadata": {},
   "outputs": [],
   "source": [
    "import numpy as np"
   ]
  },
  {
   "cell_type": "code",
   "execution_count": 12,
   "id": "77297f80",
   "metadata": {},
   "outputs": [
    {
     "name": "stdout",
     "output_type": "stream",
     "text": [
      "0.5\n"
     ]
    }
   ],
   "source": [
    "import math\n",
    "\n",
    "N =4\n",
    "\n",
    "result = 1 / math.sqrt(N)\n",
    "\n",
    "print(result)\n",
    "\n"
   ]
  },
  {
   "cell_type": "code",
   "execution_count": 13,
   "id": "95538399",
   "metadata": {},
   "outputs": [
    {
     "name": "stdout",
     "output_type": "stream",
     "text": [
      "[[0.716415 0.509137 0.52407  0.427707]\n",
      " [0.603624 0.483354 0.683208 0.49812 ]\n",
      " [0.90793  0.598718 0.3809   0.38436 ]\n",
      " [1.162673 0.824395 0.735466 0.633831]]\n"
     ]
    }
   ],
   "source": [
    "# item vectors\n",
    "# a b c d e f are list items\n",
    "a= np.array([0.235, 0.408, 0.410, 0.781])\n",
    "b= np.array([0.773, 0.523, 0.226, 0.279])\n",
    "c= np.array([0.438, 0.692, 0.170, 0.548])\n",
    "d= np.array([0.220, 0.270, 0.800, 0.489])\n",
    "e= np.array([0.548, 0.170, 0.692, 0.548])\n",
    "f= np.array([0.800, 0.489, 0.220, 0.270])\n",
    "\n",
    "\n",
    "x= np.array([0.106, 0.840, 0.200, 0.490])\n",
    "\n",
    "#Assoc matrixes M= ab + cd + ef (N x N outer product matrix. This matrix, denoted ab′, represents the association between items A and B. The prime denotes atransposed row vector)\n",
    "\n",
    "M=   np.outer(a,b) + np.outer(c,d) + np.outer(e,f) # memory matrix\n",
    "\n",
    "print(M)\n",
    "\n",
    "#item recognition:\n",
    "\n",
    "#Recognition decisions are made by taking the dot product of the test probe p and the single distributed memory matrix M\n",
    "r= np.array([0.5,0.5,0.5,0.5]) # normalized\n",
    "\n"
   ]
  },
  {
   "cell_type": "markdown",
   "id": "8e3f1103",
   "metadata": {},
   "source": [
    "### item recognition"
   ]
  },
  {
   "cell_type": "code",
   "execution_count": 14,
   "id": "9b2ab336",
   "metadata": {},
   "outputs": [
    {
     "data": {
      "text/plain": [
       "2.494972254"
      ]
     },
     "execution_count": 14,
     "metadata": {},
     "output_type": "execute_result"
    }
   ],
   "source": [
    "((a * r) @ M).sum()"
   ]
  },
  {
   "cell_type": "code",
   "execution_count": 15,
   "id": "4f508815",
   "metadata": {},
   "outputs": [
    {
     "data": {
      "text/plain": [
       "2.117587182"
      ]
     },
     "execution_count": 15,
     "metadata": {},
     "output_type": "execute_result"
    }
   ],
   "source": [
    "((x * r) @ M).sum()"
   ]
  },
  {
   "cell_type": "code",
   "execution_count": null,
   "id": "66d5103a",
   "metadata": {},
   "outputs": [],
   "source": []
  }
 ],
 "metadata": {
  "kernelspec": {
   "display_name": "Python 3 (ipykernel)",
   "language": "python",
   "name": "python3"
  },
  "language_info": {
   "codemirror_mode": {
    "name": "ipython",
    "version": 3
   },
   "file_extension": ".py",
   "mimetype": "text/x-python",
   "name": "python",
   "nbconvert_exporter": "python",
   "pygments_lexer": "ipython3",
   "version": "3.9.13"
  }
 },
 "nbformat": 4,
 "nbformat_minor": 5
}
