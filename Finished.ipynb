{
 "cells": [
  {
   "cell_type": "code",
   "execution_count": 1,
   "id": "eff031a2",
   "metadata": {},
   "outputs": [],
   "source": [
    "from keras.preprocessing.text import Tokenizer\n",
    "import numpy as np\n",
    "from string import punctuation\n",
    "import numpy as np \n",
    "import re\n",
    "import pandas as pd\n",
    "import fasttext\n",
    "import fasttext.util\n",
    "import random\n",
    "from itertools import permutations,combinations\n",
    "from numpy.linalg import norm\n",
    "import math"
   ]
  },
  {
   "cell_type": "markdown",
   "id": "8a4a6532",
   "metadata": {},
   "source": [
    "# Make Methods to get Most Similar and Most Distant Items From the List"
   ]
  },
  {
   "cell_type": "markdown",
   "id": "28129f96",
   "metadata": {},
   "source": [
    "In this section, I downloaded pre-trained fastText model and add item list. Later I get word vectors of a word list from a fasttext object. Finally, I get word distances of the list by cosine similarity.\n"
   ]
  },
  {
   "cell_type": "markdown",
   "id": "7dd4a445",
   "metadata": {},
   "source": [
    "### fastText"
   ]
  },
  {
   "cell_type": "code",
   "execution_count": 2,
   "id": "d447f1cf",
   "metadata": {},
   "outputs": [],
   "source": [
    "ft = fasttext.load_model(r'cc.tr.300.bin')\n"
   ]
  },
  {
   "cell_type": "code",
   "execution_count": 106,
   "id": "b844c8e4",
   "metadata": {},
   "outputs": [],
   "source": [
    "df = pd.read_csv(\"words.txt\")\n",
    "liste1=np.array(df).flatten()"
   ]
  },
  {
   "cell_type": "code",
   "execution_count": 107,
   "id": "74c4d00c",
   "metadata": {},
   "outputs": [],
   "source": [
    "liste1=[x.lower() for x in liste1]\n"
   ]
  },
  {
   "cell_type": "code",
   "execution_count": 108,
   "id": "32f16ea9",
   "metadata": {},
   "outputs": [],
   "source": [
    "liste=[]\n",
    "for i in range(len(liste1)):\n",
    "    if((len(liste1[i])==4) or (len(liste1[i])==5) or (len(liste1[i])==6)):\n",
    "        liste.append(liste1[i])\n",
    "\n",
    "liste=set(liste)\n",
    "liste=list(liste)"
   ]
  },
  {
   "cell_type": "code",
   "execution_count": 109,
   "id": "b5837aa8",
   "metadata": {},
   "outputs": [],
   "source": [
    "random.shuffle(liste)\n"
   ]
  },
  {
   "cell_type": "code",
   "execution_count": 110,
   "id": "ebbe5625",
   "metadata": {},
   "outputs": [],
   "source": [
    "liste=np.array(liste).flatten()"
   ]
  },
  {
   "cell_type": "code",
   "execution_count": 111,
   "id": "b57a29e1",
   "metadata": {},
   "outputs": [],
   "source": [
    "liste= liste[:10000] # determine list limit"
   ]
  },
  {
   "cell_type": "code",
   "execution_count": 112,
   "id": "fc23c6fd",
   "metadata": {},
   "outputs": [],
   "source": [
    "def get_word_vectors(word_list, ft):\n",
    "    \"\"\"\n",
    "    Get word vectors of a word list from a fasttext object\n",
    "    \"\"\"\n",
    "    return np.array(list(map(ft.get_word_vector, word_list)))"
   ]
  },
  {
   "cell_type": "code",
   "execution_count": 113,
   "id": "280b4487",
   "metadata": {},
   "outputs": [],
   "source": [
    "vectors = get_word_vectors(liste, ft)\n"
   ]
  },
  {
   "cell_type": "code",
   "execution_count": 114,
   "id": "54a8d61c",
   "metadata": {},
   "outputs": [],
   "source": [
    "def cos_similarity_w_matrix(vector, matrix):\n",
    "    \"\"\"\n",
    "    Cosine similarity of a vector to all rows of matrix\n",
    "    \"\"\"\n",
    "    return np.dot(vector, matrix.T) / (np.linalg.norm(vector) * np.linalg.norm(matrix, axis=1))"
   ]
  },
  {
   "cell_type": "code",
   "execution_count": 115,
   "id": "de6e0fc8",
   "metadata": {},
   "outputs": [],
   "source": [
    "def cos_sim_matrix(matrix):\n",
    "    \"\"\"\n",
    "    Pairwise cosine similarity of all rows of matrix\n",
    "    \"\"\"\n",
    "    cs = lambda inp : cos_similarity_w_matrix(inp, matrix)\n",
    "    return np.array(list(map(cs, matrix)))"
   ]
  },
  {
   "cell_type": "code",
   "execution_count": 116,
   "id": "d2e2cbe6",
   "metadata": {},
   "outputs": [],
   "source": [
    "word_distances = cos_sim_matrix(vectors)\n"
   ]
  },
  {
   "cell_type": "code",
   "execution_count": 117,
   "id": "30bf4722",
   "metadata": {},
   "outputs": [],
   "source": [
    "def find_furthest(k,word_distances,liste):\n",
    "    \"\"\"\n",
    "    Find furthest k most items in the list\n",
    "    \"\"\"\n",
    "    indices = np.apply_along_axis(lambda x: np.argpartition(x, k)[:k], 1, word_distances)\n",
    "    distant_words = np.apply_along_axis(lambda x: liste[x], 1, indices)\n",
    "    dist_words_dict = dict(zip(liste, distant_words.tolist()))\n",
    "    #return distant_words.tolist()\n",
    "    return dist_words_dict\n"
   ]
  },
  {
   "cell_type": "code",
   "execution_count": 118,
   "id": "5a4bde40",
   "metadata": {},
   "outputs": [],
   "source": [
    "def find_furthest1(k,word_distances,liste):\n",
    "    \"\"\"\n",
    "    Find furthest k most items in the list\n",
    "    \"\"\"\n",
    "    indices = np.apply_along_axis(lambda x: np.argpartition(x, k)[:k], 1, word_distances)\n",
    "    distant_words = np.apply_along_axis(lambda x: liste[x], 1, indices)\n",
    "    dist_words_dict = dict(zip(liste, distant_words.tolist()))\n",
    "    return distant_words.tolist()\n",
    "    #return dist_words_dict\n"
   ]
  },
  {
   "cell_type": "code",
   "execution_count": 119,
   "id": "6d95fc51",
   "metadata": {},
   "outputs": [],
   "source": [
    "#get nearest\n",
    "def find_nearest(k,word_distances,liste):\n",
    "    \"\"\"\n",
    "    Find nearest k most items in the list\n",
    "    \"\"\"\n",
    "    indices = np.apply_along_axis(lambda x: np.argsort(x, axis=0)[-k:-1], 1, word_distances)\n",
    "    distant_words = np.apply_along_axis(lambda x:liste[x], 1, indices)\n",
    "    dist_words_dict = dict(zip(liste, distant_words.tolist()))\n",
    "    #return distant_words.tolist()\n",
    "    return dist_words_dict\n"
   ]
  },
  {
   "cell_type": "code",
   "execution_count": 128,
   "id": "ada651bd",
   "metadata": {},
   "outputs": [],
   "source": [
    "def cosine_sim(vector1, vector2):\n",
    "    dot_product = np.dot(vector1, vector2)\n",
    "    norm_1 = np.linalg.norm(vector1)\n",
    "    norm_2 = np.linalg.norm(vector2)\n",
    "    return dot_product / (norm_1 * norm_2)"
   ]
  },
  {
   "cell_type": "code",
   "execution_count": 144,
   "id": "06decdaf",
   "metadata": {
    "collapsed": true
   },
   "outputs": [
    {
     "data": {
      "text/plain": [
       "'\\n#get nearest\\ndef find_nearest1(k,word_distances,liste):\\n    indices = np.apply_along_axis(lambda x: np.argsort(x, axis=0)[-k:-1], 1, word_distances)\\n    distant_words = np.apply_along_axis(lambda x:liste[x], 1, indices)\\n    dist_words_dict = dict(zip(liste, distant_words.tolist()))\\n    #return distant_words.tolist()\\n    return dist_words_dict\\n'"
      ]
     },
     "execution_count": 144,
     "metadata": {},
     "output_type": "execute_result"
    }
   ],
   "source": [
    "\"\"\"\n",
    "#get nearest\n",
    "def find_nearest1(k,word_distances,liste):\n",
    "    indices = np.apply_along_axis(lambda x: np.argsort(x, axis=0)[-k:-1], 1, word_distances)\n",
    "    distant_words = np.apply_along_axis(lambda x:liste[x], 1, indices)\n",
    "    dist_words_dict = dict(zip(liste, distant_words.tolist()))\n",
    "    #return distant_words.tolist()\n",
    "    return dist_words_dict\n",
    "\"\"\""
   ]
  },
  {
   "cell_type": "markdown",
   "id": "4b6b459f",
   "metadata": {},
   "source": [
    "## Make Semantically Similar"
   ]
  },
  {
   "cell_type": "code",
   "execution_count": 134,
   "id": "94dad8b0",
   "metadata": {},
   "outputs": [],
   "source": [
    "buff1=[]\n",
    "buff2=[]\n",
    "buff3=[]\n",
    "buff4=[]\n",
    "buff5=[]"
   ]
  },
  {
   "cell_type": "code",
   "execution_count": 135,
   "id": "8d73e5b2",
   "metadata": {},
   "outputs": [],
   "source": [
    "a=find_furthest1(1,word_distances,liste)\n",
    "v=find_nearest(11,word_distances,liste)"
   ]
  },
  {
   "cell_type": "code",
   "execution_count": 141,
   "id": "56c0eee6",
   "metadata": {},
   "outputs": [
    {
     "name": "stdout",
     "output_type": "stream",
     "text": [
      "platin\n"
     ]
    },
    {
     "data": {
      "text/plain": [
       "['tellür',\n",
       " 'krom',\n",
       " 'kobalt',\n",
       " 'bronz',\n",
       " 'metal',\n",
       " 'dore',\n",
       " 'elmas',\n",
       " 'rodyum',\n",
       " 'altın',\n",
       " 'gümüş']"
      ]
     },
     "execution_count": 141,
     "metadata": {},
     "output_type": "execute_result"
    }
   ],
   "source": [
    "np.random.seed(1)\n",
    "a1=random.choice(a)[0]\n",
    "print(a1)\n",
    "v[a1]"
   ]
  },
  {
   "cell_type": "code",
   "execution_count": 142,
   "id": "cad3f0a4",
   "metadata": {},
   "outputs": [
    {
     "name": "stdout",
     "output_type": "stream",
     "text": [
      "('tellür', 'krom', 0.40018135)\n",
      "('tellür', 'kobalt', 0.5095238)\n",
      "('tellür', 'bronz', 0.33526978)\n",
      "('tellür', 'metal', 0.49999186)\n",
      "('tellür', 'dore', 0.28577524)\n",
      "('tellür', 'elmas', 0.37048578)\n",
      "('tellür', 'rodyum', 0.48217273)\n",
      "('tellür', 'altın', 0.31756234)\n",
      "('tellür', 'gümüş', 0.45416927)\n",
      "('krom', 'kobalt', 0.4545854)\n",
      "('krom', 'bronz', 0.42236686)\n",
      "('krom', 'metal', 0.5662043)\n",
      "('krom', 'dore', 0.45126578)\n",
      "('krom', 'elmas', 0.44455338)\n",
      "('krom', 'rodyum', 0.49963084)\n",
      "('krom', 'altın', 0.4066041)\n",
      "('krom', 'gümüş', 0.5580598)\n",
      "('kobalt', 'bronz', 0.32072306)\n",
      "('kobalt', 'metal', 0.43456727)\n",
      "('kobalt', 'dore', 0.40209246)\n",
      "('kobalt', 'elmas', 0.4017112)\n",
      "('kobalt', 'rodyum', 0.47829214)\n",
      "('kobalt', 'altın', 0.3154891)\n",
      "('kobalt', 'gümüş', 0.48353374)\n",
      "('bronz', 'metal', 0.45441043)\n",
      "('bronz', 'dore', 0.4296428)\n",
      "('bronz', 'elmas', 0.36916953)\n",
      "('bronz', 'rodyum', 0.44496992)\n",
      "('bronz', 'altın', 0.5579281)\n",
      "('bronz', 'gümüş', 0.68783253)\n",
      "('metal', 'dore', 0.3828024)\n",
      "('metal', 'elmas', 0.43314567)\n",
      "('metal', 'rodyum', 0.5025071)\n",
      "('metal', 'altın', 0.41293162)\n",
      "('metal', 'gümüş', 0.55735534)\n",
      "('dore', 'elmas', 0.30626276)\n",
      "('dore', 'rodyum', 0.43233776)\n",
      "('dore', 'altın', 0.39715442)\n",
      "('dore', 'gümüş', 0.47617334)\n",
      "('elmas', 'rodyum', 0.53658295)\n",
      "('elmas', 'altın', 0.5771788)\n",
      "('elmas', 'gümüş', 0.56924915)\n",
      "('rodyum', 'altın', 0.4896392)\n",
      "('rodyum', 'gümüş', 0.5932734)\n",
      "('altın', 'gümüş', 0.7599309)\n"
     ]
    }
   ],
   "source": [
    "for a,b in combinations(v[a1],2):\n",
    "  print((a,b,cosine_sim(ft[a],ft[b])))"
   ]
  },
  {
   "cell_type": "code",
   "execution_count": 143,
   "id": "8c2b3825",
   "metadata": {},
   "outputs": [],
   "source": [
    "a=find_furthest1(1,word_distances,liste)\n",
    "v=find_nearest(11,word_distances,liste)"
   ]
  },
  {
   "cell_type": "code",
   "execution_count": 184,
   "id": "4eaf9bc8",
   "metadata": {},
   "outputs": [
    {
     "name": "stdout",
     "output_type": "stream",
     "text": [
      "saniye\n"
     ]
    },
    {
     "data": {
      "text/plain": [
       "['müddet',\n",
       " 'litre',\n",
       " 'birkaç',\n",
       " 'anında',\n",
       " 'asır',\n",
       " 'yarım',\n",
       " 'metre',\n",
       " 'süre',\n",
       " 'salise',\n",
       " 'dakika']"
      ]
     },
     "execution_count": 184,
     "metadata": {},
     "output_type": "execute_result"
    }
   ],
   "source": [
    "np.random.seed(2)\n",
    "a2=random.choice(a)[0]\n",
    "print(a2)\n",
    "v[a2]"
   ]
  },
  {
   "cell_type": "code",
   "execution_count": 185,
   "id": "a614e6b7",
   "metadata": {},
   "outputs": [
    {
     "name": "stdout",
     "output_type": "stream",
     "text": [
      "('müddet', 'litre', 0.21728332)\n",
      "('müddet', 'birkaç', 0.46363768)\n",
      "('müddet', 'anında', 0.27028227)\n",
      "('müddet', 'asır', 0.4805348)\n",
      "('müddet', 'yarım', 0.40437472)\n",
      "('müddet', 'metre', 0.24361707)\n",
      "('müddet', 'süre', 0.8169261)\n",
      "('müddet', 'salise', 0.25215277)\n",
      "('müddet', 'dakika', 0.4190392)\n",
      "('litre', 'birkaç', 0.24389192)\n",
      "('litre', 'anında', 0.11407625)\n",
      "('litre', 'asır', 0.25717637)\n",
      "('litre', 'yarım', 0.3817167)\n",
      "('litre', 'metre', 0.46732423)\n",
      "('litre', 'süre', 0.24092455)\n",
      "('litre', 'salise', 0.25895962)\n",
      "('litre', 'dakika', 0.3628612)\n",
      "('birkaç', 'anında', 0.3199887)\n",
      "('birkaç', 'asır', 0.42631492)\n",
      "('birkaç', 'yarım', 0.5505956)\n",
      "('birkaç', 'metre', 0.3296172)\n",
      "('birkaç', 'süre', 0.54662037)\n",
      "('birkaç', 'salise', 0.3422631)\n",
      "('birkaç', 'dakika', 0.48267743)\n",
      "('anında', 'asır', 0.16044973)\n",
      "('anında', 'yarım', 0.23578696)\n",
      "('anında', 'metre', 0.11873627)\n",
      "('anında', 'süre', 0.3153502)\n",
      "('anında', 'salise', 0.26078472)\n",
      "('anında', 'dakika', 0.3777104)\n",
      "('asır', 'yarım', 0.51725835)\n",
      "('asır', 'metre', 0.3364891)\n",
      "('asır', 'süre', 0.47165084)\n",
      "('asır', 'salise', 0.3817851)\n",
      "('asır', 'dakika', 0.4496636)\n",
      "('yarım', 'metre', 0.36792)\n",
      "('yarım', 'süre', 0.4722451)\n",
      "('yarım', 'salise', 0.33059502)\n",
      "('yarım', 'dakika', 0.48669136)\n",
      "('metre', 'süre', 0.31057402)\n",
      "('metre', 'salise', 0.3697008)\n",
      "('metre', 'dakika', 0.44843316)\n",
      "('süre', 'salise', 0.3098054)\n",
      "('süre', 'dakika', 0.57181996)\n",
      "('salise', 'dakika', 0.4548386)\n"
     ]
    }
   ],
   "source": [
    "for a,b in combinations(v[a2],2):\n",
    "  print((a,b,cosine_sim(ft[a],ft[b])))"
   ]
  },
  {
   "cell_type": "code",
   "execution_count": 191,
   "id": "f9669761",
   "metadata": {},
   "outputs": [],
   "source": [
    "a=find_furthest1(1,word_distances,liste)\n",
    "v=find_nearest(11,word_distances,liste)"
   ]
  },
  {
   "cell_type": "code",
   "execution_count": 198,
   "id": "c02cfa13",
   "metadata": {},
   "outputs": [
    {
     "name": "stdout",
     "output_type": "stream",
     "text": [
      "popçu\n"
     ]
    },
    {
     "data": {
      "text/plain": [
       "['şarkı',\n",
       " 'doğulu',\n",
       " 'plakçı',\n",
       " 'star',\n",
       " 'makyör',\n",
       " 'aktris',\n",
       " 'ortaç',\n",
       " 'dansçı',\n",
       " 'artist',\n",
       " 'cazcı']"
      ]
     },
     "execution_count": 198,
     "metadata": {},
     "output_type": "execute_result"
    }
   ],
   "source": [
    "np.random.seed(3)\n",
    "a3=random.choice(a)[0]\n",
    "print(a3)\n",
    "v[a3]"
   ]
  },
  {
   "cell_type": "code",
   "execution_count": 199,
   "id": "535b79c9",
   "metadata": {},
   "outputs": [
    {
     "name": "stdout",
     "output_type": "stream",
     "text": [
      "('şarkı', 'doğulu', 0.19506955)\n",
      "('şarkı', 'plakçı', 0.33229667)\n",
      "('şarkı', 'star', 0.250155)\n",
      "('şarkı', 'makyör', 0.18677488)\n",
      "('şarkı', 'aktris', 0.25527176)\n",
      "('şarkı', 'ortaç', 0.3664509)\n",
      "('şarkı', 'dansçı', 0.41837192)\n",
      "('şarkı', 'artist', 0.31120628)\n",
      "('şarkı', 'cazcı', 0.33724385)\n",
      "('doğulu', 'plakçı', 0.2771845)\n",
      "('doğulu', 'star', 0.3023268)\n",
      "('doğulu', 'makyör', 0.2717349)\n",
      "('doğulu', 'aktris', 0.26941893)\n",
      "('doğulu', 'ortaç', 0.25674254)\n",
      "('doğulu', 'dansçı', 0.37037918)\n",
      "('doğulu', 'artist', 0.27068415)\n",
      "('doğulu', 'cazcı', 0.41442367)\n",
      "('plakçı', 'star', 0.2223122)\n",
      "('plakçı', 'makyör', 0.31621915)\n",
      "('plakçı', 'aktris', 0.25000963)\n",
      "('plakçı', 'ortaç', 0.25182542)\n",
      "('plakçı', 'dansçı', 0.31103444)\n",
      "('plakçı', 'artist', 0.34639332)\n",
      "('plakçı', 'cazcı', 0.4658131)\n",
      "('star', 'makyör', 0.2798062)\n",
      "('star', 'aktris', 0.40241387)\n",
      "('star', 'ortaç', 0.22836141)\n",
      "('star', 'dansçı', 0.35101002)\n",
      "('star', 'artist', 0.48513997)\n",
      "('star', 'cazcı', 0.27785176)\n",
      "('makyör', 'aktris', 0.4066249)\n",
      "('makyör', 'ortaç', 0.14626093)\n",
      "('makyör', 'dansçı', 0.48029092)\n",
      "('makyör', 'artist', 0.44757867)\n",
      "('makyör', 'cazcı', 0.38674188)\n",
      "('aktris', 'ortaç', 0.17231278)\n",
      "('aktris', 'dansçı', 0.5593327)\n",
      "('aktris', 'artist', 0.4543587)\n",
      "('aktris', 'cazcı', 0.3366423)\n",
      "('ortaç', 'dansçı', 0.19221093)\n",
      "('ortaç', 'artist', 0.22986393)\n",
      "('ortaç', 'cazcı', 0.22941217)\n",
      "('dansçı', 'artist', 0.47331968)\n",
      "('dansçı', 'cazcı', 0.4630683)\n",
      "('artist', 'cazcı', 0.36986262)\n"
     ]
    }
   ],
   "source": [
    "for a,b in combinations(v[a3],2):\n",
    "  print((a,b,cosine_sim(ft[a],ft[b])))"
   ]
  },
  {
   "cell_type": "code",
   "execution_count": 200,
   "id": "daa7f62b",
   "metadata": {},
   "outputs": [],
   "source": [
    "a=find_furthest1(1,word_distances,liste)\n",
    "v=find_nearest(11,word_distances,liste)"
   ]
  },
  {
   "cell_type": "code",
   "execution_count": 211,
   "id": "b8640338",
   "metadata": {},
   "outputs": [
    {
     "name": "stdout",
     "output_type": "stream",
     "text": [
      "şema\n"
     ]
    },
    {
     "data": {
      "text/plain": [
       "['harita',\n",
       " 'çizim',\n",
       " 'plan',\n",
       " 'resim',\n",
       " 'örnek',\n",
       " 'lejant',\n",
       " 'grafik',\n",
       " 'şablon',\n",
       " 'tablo',\n",
       " 'şemail']"
      ]
     },
     "execution_count": 211,
     "metadata": {},
     "output_type": "execute_result"
    }
   ],
   "source": [
    "np.random.seed(4)\n",
    "a4=random.choice(a)[0]\n",
    "print(a4)\n",
    "v[a4]"
   ]
  },
  {
   "cell_type": "code",
   "execution_count": 212,
   "id": "b5835919",
   "metadata": {},
   "outputs": [
    {
     "name": "stdout",
     "output_type": "stream",
     "text": [
      "('harita', 'çizim', 0.4651608)\n",
      "('harita', 'plan', 0.3929499)\n",
      "('harita', 'resim', 0.4150269)\n",
      "('harita', 'örnek', 0.18144977)\n",
      "('harita', 'lejant', 0.52686757)\n",
      "('harita', 'grafik', 0.4884672)\n",
      "('harita', 'şablon', 0.3416543)\n",
      "('harita', 'tablo', 0.37829506)\n",
      "('harita', 'şemail', 0.29569745)\n",
      "('çizim', 'plan', 0.44095656)\n",
      "('çizim', 'resim', 0.6411704)\n",
      "('çizim', 'örnek', 0.2805453)\n",
      "('çizim', 'lejant', 0.4554462)\n",
      "('çizim', 'grafik', 0.61551857)\n",
      "('çizim', 'şablon', 0.4091582)\n",
      "('çizim', 'tablo', 0.41024446)\n",
      "('çizim', 'şemail', 0.27447495)\n",
      "('plan', 'resim', 0.39524984)\n",
      "('plan', 'örnek', 0.2536548)\n",
      "('plan', 'lejant', 0.46726474)\n",
      "('plan', 'grafik', 0.35948244)\n",
      "('plan', 'şablon', 0.4053693)\n",
      "('plan', 'tablo', 0.35791433)\n",
      "('plan', 'şemail', 0.31171185)\n",
      "('resim', 'örnek', 0.3105213)\n",
      "('resim', 'lejant', 0.34391108)\n",
      "('resim', 'grafik', 0.5647031)\n",
      "('resim', 'şablon', 0.40593323)\n",
      "('resim', 'tablo', 0.51106584)\n",
      "('resim', 'şemail', 0.32394937)\n",
      "('örnek', 'lejant', 0.22633918)\n",
      "('örnek', 'grafik', 0.33341095)\n",
      "('örnek', 'şablon', 0.3717987)\n",
      "('örnek', 'tablo', 0.37328607)\n",
      "('örnek', 'şemail', 0.38948604)\n",
      "('lejant', 'grafik', 0.3797672)\n",
      "('lejant', 'şablon', 0.35113877)\n",
      "('lejant', 'tablo', 0.31085962)\n",
      "('lejant', 'şemail', 0.38099)\n",
      "('grafik', 'şablon', 0.37333488)\n",
      "('grafik', 'tablo', 0.53927565)\n",
      "('grafik', 'şemail', 0.31748408)\n",
      "('şablon', 'tablo', 0.4152032)\n",
      "('şablon', 'şemail', 0.36779994)\n",
      "('tablo', 'şemail', 0.31480014)\n"
     ]
    }
   ],
   "source": [
    "for a,b in combinations(v[a4],2):\n",
    "  print((a,b,cosine_sim(ft[a],ft[b])))"
   ]
  },
  {
   "cell_type": "code",
   "execution_count": 213,
   "id": "ad1e4047",
   "metadata": {},
   "outputs": [],
   "source": [
    "a=find_furthest1(1,word_distances,liste)\n",
    "v=find_nearest(11,word_distances,liste)"
   ]
  },
  {
   "cell_type": "code",
   "execution_count": 214,
   "id": "51fdf6b3",
   "metadata": {},
   "outputs": [
    {
     "name": "stdout",
     "output_type": "stream",
     "text": [
      "miting\n"
     ]
    },
    {
     "data": {
      "text/plain": [
       "['anma',\n",
       " 'gezi',\n",
       " 'şölen',\n",
       " 'şenlik',\n",
       " 'konvoy',\n",
       " 'grev',\n",
       " 'nevruz',\n",
       " 'fuar',\n",
       " 'tören',\n",
       " 'konser']"
      ]
     },
     "execution_count": 214,
     "metadata": {},
     "output_type": "execute_result"
    }
   ],
   "source": [
    "np.random.seed(5)\n",
    "a5=random.choice(a)[0]\n",
    "print(a5)\n",
    "v[a5]"
   ]
  },
  {
   "cell_type": "code",
   "execution_count": 215,
   "id": "6afcda82",
   "metadata": {},
   "outputs": [
    {
     "name": "stdout",
     "output_type": "stream",
     "text": [
      "('anma', 'gezi', 0.38820878)\n",
      "('anma', 'şölen', 0.35691664)\n",
      "('anma', 'şenlik', 0.3665083)\n",
      "('anma', 'konvoy', 0.19279015)\n",
      "('anma', 'grev', 0.311771)\n",
      "('anma', 'nevruz', 0.34952432)\n",
      "('anma', 'fuar', 0.2604658)\n",
      "('anma', 'tören', 0.48322773)\n",
      "('anma', 'konser', 0.34075636)\n",
      "('gezi', 'şölen', 0.36552185)\n",
      "('gezi', 'şenlik', 0.3775853)\n",
      "('gezi', 'konvoy', 0.35945565)\n",
      "('gezi', 'grev', 0.27294302)\n",
      "('gezi', 'nevruz', 0.30245396)\n",
      "('gezi', 'fuar', 0.508578)\n",
      "('gezi', 'tören', 0.3856284)\n",
      "('gezi', 'konser', 0.43064046)\n",
      "('şölen', 'şenlik', 0.66352713)\n",
      "('şölen', 'konvoy', 0.32974112)\n",
      "('şölen', 'grev', 0.19817492)\n",
      "('şölen', 'nevruz', 0.36990768)\n",
      "('şölen', 'fuar', 0.37284806)\n",
      "('şölen', 'tören', 0.5286192)\n",
      "('şölen', 'konser', 0.39353576)\n",
      "('şenlik', 'konvoy', 0.26266053)\n",
      "('şenlik', 'grev', 0.24849057)\n",
      "('şenlik', 'nevruz', 0.44966555)\n",
      "('şenlik', 'fuar', 0.44531497)\n",
      "('şenlik', 'tören', 0.49220818)\n",
      "('şenlik', 'konser', 0.4819809)\n",
      "('konvoy', 'grev', 0.17120917)\n",
      "('konvoy', 'nevruz', 0.1890665)\n",
      "('konvoy', 'fuar', 0.28388897)\n",
      "('konvoy', 'tören', 0.41412994)\n",
      "('konvoy', 'konser', 0.23744993)\n",
      "('grev', 'nevruz', 0.25507966)\n",
      "('grev', 'fuar', 0.28758222)\n",
      "('grev', 'tören', 0.2636851)\n",
      "('grev', 'konser', 0.27523997)\n",
      "('nevruz', 'fuar', 0.30733427)\n",
      "('nevruz', 'tören', 0.3108639)\n",
      "('nevruz', 'konser', 0.30901936)\n",
      "('fuar', 'tören', 0.37374055)\n",
      "('fuar', 'konser', 0.46068457)\n",
      "('tören', 'konser', 0.41283423)\n"
     ]
    }
   ],
   "source": [
    "for a,b in combinations(v[a5],2):\n",
    "  print((a,b,cosine_sim(ft[a],ft[b])))"
   ]
  },
  {
   "cell_type": "markdown",
   "id": "761321a8",
   "metadata": {},
   "source": [
    "## Make Semantically Dissimilar"
   ]
  },
  {
   "cell_type": "markdown",
   "id": "9bc02cfb",
   "metadata": {},
   "source": [
    "To make a semantically dissimilar words list, define a condition in which the loop stops until reach the new list reaches \"list_length\" length. Create a new list by adding items from the list, and items are added according to \"word_distances\" but randomly choose items from the list of the first five most distant items. If the pairwise combination of items of the list of cosine similarity is higher than 0.15, I add them to a list (temp), then turn the list to a set (due to sets having unique items but no copy of it), then get the difference from the set which of all item to set which have items which have higher than 0.15 cosine similarity concerning pairwise combination"
   ]
  },
  {
   "cell_type": "code",
   "execution_count": 216,
   "id": "4f959705",
   "metadata": {},
   "outputs": [],
   "source": [
    "def random_dist_creator(word_distances,liste,list_length):\n",
    "    temp9=[]\n",
    "    temp=[]\n",
    "    u=[]\n",
    "    temp9.append(liste[np.argpartition(word_distances[random.randint(0,len(liste))],\n",
    "                                                                random.randint(0,5))[random.randint(0,5)]])\n",
    "   \n",
    "    while True:\n",
    "        if (len(u)==list_length):\n",
    "            break\n",
    "        a= random.randint(0,len(liste))\n",
    "        b= random.randint(0,5)\n",
    "\n",
    "        index=np.argpartition(word_distances[a], b)[b]          \n",
    "        temp9.append(liste[index])\n",
    "        for a,b in combinations(temp9,2):\n",
    "            if(0.15<cosine_sim(ft[a],ft[b])):\n",
    "                temp.append(a)\n",
    "        u=list(set(temp9) - set(temp))\n",
    "    return u"
   ]
  },
  {
   "cell_type": "code",
   "execution_count": 217,
   "id": "cb092ff3",
   "metadata": {
    "scrolled": true
   },
   "outputs": [
    {
     "data": {
      "text/plain": [
       "['üğrüm',\n",
       " 'teshir',\n",
       " 'imzalı',\n",
       " 'onejit',\n",
       " 'dönüt',\n",
       " 'bugüne',\n",
       " 'mayşor',\n",
       " 'raunt',\n",
       " 'anot',\n",
       " 'dümtek']"
      ]
     },
     "execution_count": 217,
     "metadata": {},
     "output_type": "execute_result"
    }
   ],
   "source": [
    "p=random_dist_creator(word_distances,liste,10)\n",
    "p"
   ]
  },
  {
   "cell_type": "code",
   "execution_count": 218,
   "id": "f04e83d6",
   "metadata": {},
   "outputs": [
    {
     "name": "stdout",
     "output_type": "stream",
     "text": [
      "('üğrüm', 'teshir', -0.0026452688)\n",
      "('üğrüm', 'imzalı', 0.052391384)\n",
      "('üğrüm', 'onejit', 0.09350739)\n",
      "('üğrüm', 'dönüt', 0.01998799)\n",
      "('üğrüm', 'bugüne', -0.027754966)\n",
      "('üğrüm', 'mayşor', -0.008935451)\n",
      "('üğrüm', 'raunt', -0.019558216)\n",
      "('üğrüm', 'anot', 0.048488326)\n",
      "('üğrüm', 'dümtek', 0.013629623)\n",
      "('teshir', 'imzalı', 0.0123430025)\n",
      "('teshir', 'onejit', -0.052693803)\n",
      "('teshir', 'dönüt', -0.07620521)\n",
      "('teshir', 'bugüne', 0.0068211537)\n",
      "('teshir', 'mayşor', 0.039005864)\n",
      "('teshir', 'raunt', 0.0019415655)\n",
      "('teshir', 'anot', 0.019140769)\n",
      "('teshir', 'dümtek', 0.13692036)\n",
      "('imzalı', 'onejit', -0.09320552)\n",
      "('imzalı', 'dönüt', 0.095079236)\n",
      "('imzalı', 'bugüne', 0.114585355)\n",
      "('imzalı', 'mayşor', 0.014915848)\n",
      "('imzalı', 'raunt', 0.01870672)\n",
      "('imzalı', 'anot', 0.051434446)\n",
      "('imzalı', 'dümtek', 0.017167414)\n",
      "('onejit', 'dönüt', 0.06080442)\n",
      "('onejit', 'bugüne', 0.09159954)\n",
      "('onejit', 'mayşor', 0.06465521)\n",
      "('onejit', 'raunt', 0.0453863)\n",
      "('onejit', 'anot', -0.001207663)\n",
      "('onejit', 'dümtek', 0.030796021)\n",
      "('dönüt', 'bugüne', 0.07426947)\n",
      "('dönüt', 'mayşor', 0.1122455)\n",
      "('dönüt', 'raunt', -0.029169427)\n",
      "('dönüt', 'anot', 0.13660885)\n",
      "('dönüt', 'dümtek', -0.026624003)\n",
      "('bugüne', 'mayşor', -0.019468458)\n",
      "('bugüne', 'raunt', 0.06985489)\n",
      "('bugüne', 'anot', -0.028245324)\n",
      "('bugüne', 'dümtek', -0.022611033)\n",
      "('mayşor', 'raunt', -0.040923927)\n",
      "('mayşor', 'anot', 0.05677041)\n",
      "('mayşor', 'dümtek', -0.13334581)\n",
      "('raunt', 'anot', 0.056368012)\n",
      "('raunt', 'dümtek', 0.004877275)\n",
      "('anot', 'dümtek', -0.010888176)\n"
     ]
    }
   ],
   "source": [
    "for a,b in combinations(p,2):\n",
    "  print((a,b,cosine_sim(ft[a],ft[b])))"
   ]
  },
  {
   "cell_type": "code",
   "execution_count": 258,
   "id": "34e53713",
   "metadata": {
    "scrolled": true
   },
   "outputs": [],
   "source": [
    "# crate 80 items that include each list's item less than 0.15\n",
    "res=[]\n",
    "i=0\n",
    "while i<5:\n",
    "    res.append(random_dist_creator(word_distances,liste,10))\n",
    "    i=i+1\n"
   ]
  },
  {
   "cell_type": "code",
   "execution_count": 259,
   "id": "c34c66fc",
   "metadata": {},
   "outputs": [
    {
     "data": {
      "text/plain": [
       "[['raşe',\n",
       "  'frer',\n",
       "  'ayarı',\n",
       "  'golfçü',\n",
       "  'süvme',\n",
       "  'armada',\n",
       "  'şergil',\n",
       "  'koala',\n",
       "  'apoşi',\n",
       "  'mezmur'],\n",
       " ['dügâh',\n",
       "  'mayşor',\n",
       "  'sahur',\n",
       "  'çüngüş',\n",
       "  'verdi',\n",
       "  'rayına',\n",
       "  'sızım',\n",
       "  'çöpsüz',\n",
       "  'kilüs',\n",
       "  'içerik'],\n",
       " ['üğrüm',\n",
       "  'onaylı',\n",
       "  'müdrik',\n",
       "  'jaguar',\n",
       "  'oktrua',\n",
       "  'dekore',\n",
       "  'süyüm',\n",
       "  'ortaya',\n",
       "  'sağyağ',\n",
       "  'hatmi'],\n",
       " ['üğrüm',\n",
       "  'subye',\n",
       "  'terviç',\n",
       "  'i̇dil',\n",
       "  'burslu',\n",
       "  'bağrış',\n",
       "  'utlu',\n",
       "  'şurada',\n",
       "  'salise',\n",
       "  'beğeni'],\n",
       " ['üğrüm',\n",
       "  'naçiz',\n",
       "  'şansız',\n",
       "  'beçene',\n",
       "  'şüyu',\n",
       "  'cepçi',\n",
       "  'süvme',\n",
       "  'lüknet',\n",
       "  'teçhiz',\n",
       "  'i̇dil']]"
      ]
     },
     "execution_count": 259,
     "metadata": {},
     "output_type": "execute_result"
    }
   ],
   "source": [
    "res"
   ]
  },
  {
   "cell_type": "code",
   "execution_count": 290,
   "id": "68d6fc3c",
   "metadata": {},
   "outputs": [],
   "source": [
    "result_1 = []\n",
    "for tup in res:\n",
    "    result_1.append(list(tup))"
   ]
  },
  {
   "cell_type": "code",
   "execution_count": 241,
   "id": "14e2a0ae",
   "metadata": {},
   "outputs": [],
   "source": [
    "# delete repeated items\n",
    "def unique_values_in_list_of_lists(lst):\n",
    "    result=[]\n",
    "    result.append(list(set(x for l in lst for x in l)))\n",
    "    return result"
   ]
  },
  {
   "cell_type": "code",
   "execution_count": 257,
   "id": "f601af6c",
   "metadata": {
    "scrolled": true
   },
   "outputs": [
    {
     "data": {
      "text/plain": [
       "[[['üğrüm',\n",
       "   'onejit',\n",
       "   'halef',\n",
       "   'isleme',\n",
       "   'kâin',\n",
       "   'fobi',\n",
       "   'hepçil',\n",
       "   'afife',\n",
       "   'recim',\n",
       "   'kâhin',\n",
       "   'rihter',\n",
       "   'iglu',\n",
       "   'nevton',\n",
       "   'ruam',\n",
       "   'bezzaz',\n",
       "   'pıyrım',\n",
       "   'morali',\n",
       "   'korza',\n",
       "   'ivgi',\n",
       "   'hukşat',\n",
       "   'hesabi',\n",
       "   'sunu',\n",
       "   'lagün',\n",
       "   'yomsuz',\n",
       "   'lüknet',\n",
       "   'dekore',\n",
       "   'keton',\n",
       "   'safari',\n",
       "   'koala',\n",
       "   'tipo',\n",
       "   'nimeti',\n",
       "   'çerviş',\n",
       "   'pünez',\n",
       "   'i̇dil',\n",
       "   'brülör',\n",
       "   'gününü',\n",
       "   'gelsin',\n",
       "   'guard',\n",
       "   'lala',\n",
       "   'liga',\n",
       "   'miat',\n",
       "   'süvme',\n",
       "   'maocu',\n",
       "   'önce',\n",
       "   'şurada',\n",
       "   'mayo',\n",
       "   'kurama',\n",
       "   'apoşi',\n",
       "   'kimine',\n",
       "   'kilüs',\n",
       "   'ısıcam',\n",
       "   'patnos',\n",
       "   'subye',\n",
       "   'ölüme',\n",
       "   'işar',\n",
       "   'özek',\n",
       "   'ivme',\n",
       "   'mayşor',\n",
       "   'miadı',\n",
       "   'vandöz',\n",
       "   'çüngüş',\n",
       "   'süyüm',\n",
       "   'zühul']]]"
      ]
     },
     "execution_count": 257,
     "metadata": {},
     "output_type": "execute_result"
    }
   ],
   "source": [
    "# finally crate lists contain 10 items\n",
    "x=[]\n",
    "w=[]\n",
    "x= unique_values_in_list_of_lists(res)\n",
    "#x1= x[:50]\n",
    "\n",
    "w=[[x[i:i+10]] for i in range(0, len(x), 10)]\n",
    "w[0]"
   ]
  },
  {
   "cell_type": "markdown",
   "id": "81be0e64",
   "metadata": {},
   "source": [
    "# Stats and Graphs"
   ]
  },
  {
   "cell_type": "code",
   "execution_count": 243,
   "id": "070c1a2b",
   "metadata": {},
   "outputs": [],
   "source": [
    "from scipy.stats import mannwhitneyu\n",
    "import matplotlib.pyplot as plt\n"
   ]
  },
  {
   "cell_type": "markdown",
   "id": "f9e7da0e",
   "metadata": {},
   "source": [
    "get cosine similarity values of similar lists and dissimilar lists."
   ]
  },
  {
   "cell_type": "markdown",
   "id": "88ece5ba",
   "metadata": {},
   "source": [
    "first get similar ones"
   ]
  },
  {
   "cell_type": "code",
   "execution_count": 245,
   "id": "9ef9903d",
   "metadata": {},
   "outputs": [],
   "source": [
    "for a,b in combinations(v[a1],2):\n",
    "  buff1.append(cosine_sim(ft[a],ft[b]))"
   ]
  },
  {
   "cell_type": "code",
   "execution_count": 247,
   "id": "76b500d2",
   "metadata": {},
   "outputs": [],
   "source": [
    "for a,b in combinations(v[a2],2):\n",
    "  buff2.append(cosine_sim(ft[a],ft[b]))"
   ]
  },
  {
   "cell_type": "code",
   "execution_count": 248,
   "id": "5be96dc9",
   "metadata": {},
   "outputs": [],
   "source": [
    "for a,b in combinations(v[a3],2):\n",
    "  buff3.append(cosine_sim(ft[a],ft[b]))"
   ]
  },
  {
   "cell_type": "code",
   "execution_count": 249,
   "id": "513fb880",
   "metadata": {},
   "outputs": [],
   "source": [
    "for a,b in combinations(v[a4],2):\n",
    "  buff4.append(cosine_sim(ft[a],ft[b]))"
   ]
  },
  {
   "cell_type": "code",
   "execution_count": 250,
   "id": "bb84c76b",
   "metadata": {},
   "outputs": [],
   "source": [
    "for a,b in combinations(v[a5],2):\n",
    "  buff5.append(cosine_sim(ft[a],ft[b]))"
   ]
  },
  {
   "cell_type": "markdown",
   "id": "70da1e67",
   "metadata": {},
   "source": [
    "then get dissimilar ones"
   ]
  },
  {
   "cell_type": "code",
   "execution_count": 271,
   "id": "a929a1c7",
   "metadata": {},
   "outputs": [],
   "source": [
    "buff6=[]\n",
    "buff7=[]\n",
    "buff8=[]\n",
    "buff9=[]\n",
    "buff10=[]"
   ]
  },
  {
   "cell_type": "code",
   "execution_count": 272,
   "id": "6fac3448",
   "metadata": {},
   "outputs": [],
   "source": [
    "for a,b in combinations(res[0],2):\n",
    "  buff6.append(cosine_sim(ft[a],ft[b]))"
   ]
  },
  {
   "cell_type": "code",
   "execution_count": 273,
   "id": "ef24c706",
   "metadata": {},
   "outputs": [],
   "source": [
    "for a,b in combinations(res[1],2):\n",
    "  buff7.append(cosine_sim(ft[a],ft[b]))"
   ]
  },
  {
   "cell_type": "code",
   "execution_count": 274,
   "id": "fbfe167b",
   "metadata": {},
   "outputs": [],
   "source": [
    "for a,b in combinations(res[2],2):\n",
    "  buff8.append(cosine_sim(ft[a],ft[b]))"
   ]
  },
  {
   "cell_type": "code",
   "execution_count": 275,
   "id": "4f698f7d",
   "metadata": {},
   "outputs": [],
   "source": [
    "for a,b in combinations(res[3],2):\n",
    "  buff9.append(cosine_sim(ft[a],ft[b]))"
   ]
  },
  {
   "cell_type": "code",
   "execution_count": 276,
   "id": "2fb39818",
   "metadata": {},
   "outputs": [],
   "source": [
    "for a,b in combinations(res[4],2):\n",
    "  buff10.append(cosine_sim(ft[a],ft[b]))"
   ]
  },
  {
   "cell_type": "code",
   "execution_count": 280,
   "id": "1ddfa628",
   "metadata": {},
   "outputs": [],
   "source": [
    "#Stats\n",
    "from scipy.stats import mannwhitneyu"
   ]
  },
  {
   "cell_type": "code",
   "execution_count": 295,
   "id": "b48abcdd",
   "metadata": {},
   "outputs": [
    {
     "data": {
      "image/png": "[encoded data removed]",
      "text/plain": [
       "<Figure size 640x480 with 1 Axes>"
      ]
     },
     "metadata": {},
     "output_type": "display_data"
    }
   ],
   "source": [
    "#graphs\n",
    "a= buff1 # similar\n",
    "b=buff2\n",
    "c=buff3\n",
    "d=buff4\n",
    "e=buff5\n",
    "\n",
    "f= buff6 # dissimilar\n",
    "g=buff7\n",
    "h=buff8\n",
    "j=buff9\n",
    "k=buff10\n",
    "\n",
    "\n",
    "fig, ax = plt.subplots()\n",
    "\n",
    "plt.xlabel('item number') \n",
    "plt.ylabel('cosine similarity') \n",
    "plt.title(\"Similar/Dissimilar Cosine Similarity Results\")\n",
    "\n",
    "\n",
    "ax.plot(a,linewidth=1.0)\n",
    "ax.plot(b,linewidth=1.0)\n",
    "ax.plot(c,linewidth=1.0)\n",
    "ax.plot(d,linewidth=1.0)\n",
    "ax.plot(e,linewidth=1.0)\n",
    "\n",
    "ax.plot(f,linewidth=1.0)\n",
    "ax.plot(g,linewidth=1.0)\n",
    "ax.plot(h,linewidth=1.0)\n",
    "ax.plot(j,linewidth=1.0)\n",
    "ax.plot(k,linewidth=1.0)\n",
    "\n",
    "\n",
    "\n",
    "\n",
    "\n",
    "\n",
    "plt.show()"
   ]
  },
  {
   "cell_type": "code",
   "execution_count": 296,
   "id": "4e590fd4",
   "metadata": {},
   "outputs": [],
   "source": [
    "similar=[]\n",
    "similar=[a,b,c,d,e]\n",
    "similar= np.array(similar)\n",
    "similar=similar.flatten()\n",
    "\n",
    "\n",
    "dissimilar=[]\n",
    "dissimilar=[f,g,h,j,k]\n",
    "dissimilar= np.array(dissimilar)\n",
    "dissimilar=dissimilar.flatten()\n"
   ]
  },
  {
   "cell_type": "code",
   "execution_count": 297,
   "id": "72a547ab",
   "metadata": {},
   "outputs": [
    {
     "name": "stdout",
     "output_type": "stream",
     "text": [
      "Statistics=50591.000, p=0.00\n"
     ]
    }
   ],
   "source": [
    "stat, p = mannwhitneyu(similar, dissimilar)\n",
    "print('Statistics=%.3f, p=%.2f' % (stat, p))"
   ]
  },
  {
   "cell_type": "markdown",
   "id": "7225e6cf",
   "metadata": {},
   "source": [
    "## Semantic Tool Class (STEM-T=> Semantic Tool for Episodic Memory Task)"
   ]
  },
  {
   "cell_type": "markdown",
   "id": "976565cd",
   "metadata": {},
   "source": [
    "Semantic item class will include turn word to vector (get_word_vectors) cos similiarities (cos_similarity_w_matrix, cos_sim_matrix,cos_sim_matrix, cosine_sim) and furthest elements (find_furthest) and nearest element (find_nearest)"
   ]
  },
  {
   "cell_type": "code",
   "execution_count": 95,
   "id": "aa2a5faa",
   "metadata": {},
   "outputs": [],
   "source": [
    "class STEM(object):\n",
    "    def __init__(self,word_list,ft,vecotr,matrix,vector1,vector2,u,threshold,word_distances,list_length):\n",
    "        self.word_list=word_list\n",
    "        self.ft= ft\n",
    "        self.vector=vector\n",
    "        self.matrix=matrix\n",
    "        self.vector1=vector1\n",
    "        self.vector2=vector2\n",
    "        self.u=u\n",
    "        self.threshold=threshold\n",
    "        self.word_distances=word_distances\n",
    "        self.list_length=list_length         \n",
    "    def get_word_vectors(word_list, ft):\n",
    "        return np.array(list(map(ft.get_word_vector, word_list)))\n",
    "    def cos_similarity_w_matrix(vector, matrix):\n",
    "        return np.dot(vector, matrix.T) / (np.linalg.norm(vector) * np.linalg.norm(matrix, axis=1))\n",
    "    def cos_sim_matrix(matrix):\n",
    "        cs = lambda inp : cos_similarity_w_matrix(inp, matrix)\n",
    "        return np.array(list(map(cs, matrix)))\n",
    "    def cos_sim_matrix(matrix):\n",
    "        cs = lambda inp : cos_similarity_w_matrix(inp, matrix)\n",
    "        return np.array(list(map(cs, matrix)))\n",
    "    def inter_cosine_sim(vector1, vector2):\n",
    "        dot_product = np.dot(vector1, vector2)\n",
    "        norm_1 = np.linalg.norm(vector1)\n",
    "        norm_2 = np.linalg.norm(vector2)\n",
    "        return dot_product / (norm_1 * norm_2)\n",
    "    def random_dist_creator(word_distances,liste,list_length):\n",
    "        temp9=[]\n",
    "        temp=[]\n",
    "        u=[]\n",
    "        temp9.append(liste[np.argpartition(word_distances[random.randint(0,len(liste))],\n",
    "                                                                    random.randint(0,5))[random.randint(0,5)]])\n",
    "\n",
    "        while True:\n",
    "            if (len(u)==list_length):\n",
    "                break\n",
    "            a= random.randint(0,len(liste))\n",
    "            b= random.randint(0,5)\n",
    "\n",
    "            index=np.argpartition(word_distances[a], b)[b]          \n",
    "            temp9.append(liste[index])\n",
    "            for a,b in combinations(temp9,2):\n",
    "                if(0.15<cosine_sim(ft[a],ft[b])):\n",
    "                    temp.append(a)\n",
    "            u=list(set(temp9) - set(temp))\n",
    "        return u\n",
    "#Returns random sequential distant elements according to some restrictions\n",
    "\n",
    "\n",
    "\n",
    "\n",
    "    \n",
    "#Returns random sequential distant elements according to some restrictions\n",
    "\n"
   ]
  },
  {
   "cell_type": "code",
   "execution_count": null,
   "id": "979a15bd",
   "metadata": {},
   "outputs": [],
   "source": []
  }
 ],
 "metadata": {
  "kernelspec": {
   "display_name": "Python 3 (ipykernel)",
   "language": "python",
   "name": "python3"
  },
  "language_info": {
   "codemirror_mode": {
    "name": "ipython",
    "version": 3
   },
   "file_extension": ".py",
   "mimetype": "text/x-python",
   "name": "python",
   "nbconvert_exporter": "python",
   "pygments_lexer": "ipython3",
   "version": "3.9.13"
  },
  "vscode": {
   "interpreter": {
    "hash": "6a5735bfd9c536cc43fec879f2176fd9350c5b4e6d6c8f0ffd8effd4d828448f"
   }
  }
 },
 "nbformat": 4,
 "nbformat_minor": 5
}
