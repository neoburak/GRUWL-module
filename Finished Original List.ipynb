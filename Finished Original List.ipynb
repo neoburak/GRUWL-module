{
 "cells": [
  {
   "cell_type": "code",
   "execution_count": 1,
   "id": "eff031a2",
   "metadata": {},
   "outputs": [],
   "source": [
    "from keras.preprocessing.text import Tokenizer\n",
    "import numpy as np\n",
    "from string import punctuation\n",
    "import numpy as np \n",
    "import re\n",
    "import pandas as pd\n",
    "import fasttext\n",
    "import fasttext.util\n",
    "import random\n",
    "from itertools import permutations,combinations\n",
    "from numpy.linalg import norm\n",
    "import math"
   ]
  },
  {
   "cell_type": "markdown",
   "id": "8a4a6532",
   "metadata": {},
   "source": [
    "# Make Methods to get Most Similar and Most Distant Items From the List"
   ]
  },
  {
   "cell_type": "markdown",
   "id": "28129f96",
   "metadata": {},
   "source": [
    "In this section, I downloaded pre-trained fastText model and add item list. Later I get word vectors of a word list from a fasttext object. Finally, I get word distances of the list by cosine similarity.\n"
   ]
  },
  {
   "cell_type": "markdown",
   "id": "7dd4a445",
   "metadata": {},
   "source": [
    "### fastText"
   ]
  },
  {
   "cell_type": "code",
   "execution_count": 2,
   "id": "d447f1cf",
   "metadata": {},
   "outputs": [],
   "source": [
    "ft = fasttext.load_model(r'cc.tr.300.bin')\n"
   ]
  },
  {
   "cell_type": "code",
   "execution_count": 5,
   "id": "b844c8e4",
   "metadata": {},
   "outputs": [],
   "source": [
    "df = pd.read_csv(\"words2.txt\")\n",
    "liste=np.array(df).flatten()"
   ]
  },
  {
   "cell_type": "code",
   "execution_count": 6,
   "id": "fc23c6fd",
   "metadata": {},
   "outputs": [],
   "source": [
    "def get_word_vectors(word_list, ft):\n",
    "    \"\"\"\n",
    "    Get word vectors of a word list from a fasttext object\n",
    "    \"\"\"\n",
    "    return np.array(list(map(ft.get_word_vector, word_list)))"
   ]
  },
  {
   "cell_type": "code",
   "execution_count": 7,
   "id": "280b4487",
   "metadata": {},
   "outputs": [],
   "source": [
    "vectors = get_word_vectors(liste, ft)\n"
   ]
  },
  {
   "cell_type": "code",
   "execution_count": 8,
   "id": "54a8d61c",
   "metadata": {},
   "outputs": [],
   "source": [
    "def cos_similarity_w_matrix(vector, matrix):\n",
    "    \"\"\"\n",
    "    Cosine similarity of a vector to all rows of matrix\n",
    "    \"\"\"\n",
    "    return np.dot(vector, matrix.T) / (np.linalg.norm(vector) * np.linalg.norm(matrix, axis=1))"
   ]
  },
  {
   "cell_type": "code",
   "execution_count": 9,
   "id": "de6e0fc8",
   "metadata": {},
   "outputs": [],
   "source": [
    "def cos_sim_matrix(matrix):\n",
    "    \"\"\"\n",
    "    Pairwise cosine similarity of all rows of matrix\n",
    "    \"\"\"\n",
    "    cs = lambda inp : cos_similarity_w_matrix(inp, matrix)\n",
    "    return np.array(list(map(cs, matrix)))"
   ]
  },
  {
   "cell_type": "code",
   "execution_count": 10,
   "id": "d2e2cbe6",
   "metadata": {},
   "outputs": [],
   "source": [
    "word_distances = cos_sim_matrix(vectors)\n"
   ]
  },
  {
   "cell_type": "code",
   "execution_count": 11,
   "id": "30bf4722",
   "metadata": {},
   "outputs": [],
   "source": [
    "def find_furthest(k,word_distances,liste):\n",
    "    \"\"\"\n",
    "    Find furthest k most items in the list\n",
    "    \"\"\"\n",
    "    indices = np.apply_along_axis(lambda x: np.argpartition(x, k)[:k], 1, word_distances)\n",
    "    distant_words = np.apply_along_axis(lambda x: liste[x], 1, indices)\n",
    "    dist_words_dict = dict(zip(liste, distant_words.tolist()))\n",
    "    #return distant_words.tolist()\n",
    "    return dist_words_dict\n"
   ]
  },
  {
   "cell_type": "code",
   "execution_count": 12,
   "id": "5a4bde40",
   "metadata": {},
   "outputs": [],
   "source": [
    "def find_furthest1(k,word_distances,liste):\n",
    "    \"\"\"\n",
    "    Find furthest k most items in the list\n",
    "    \"\"\"\n",
    "    indices = np.apply_along_axis(lambda x: np.argpartition(x, k)[:k], 1, word_distances)\n",
    "    distant_words = np.apply_along_axis(lambda x: liste[x], 1, indices)\n",
    "    dist_words_dict = dict(zip(liste, distant_words.tolist()))\n",
    "    return distant_words.tolist()\n",
    "    #return dist_words_dict\n"
   ]
  },
  {
   "cell_type": "code",
   "execution_count": 13,
   "id": "6d95fc51",
   "metadata": {},
   "outputs": [],
   "source": [
    "#get nearest\n",
    "def find_nearest(k,word_distances,liste):\n",
    "    \"\"\"\n",
    "    Find nearest k most items in the list\n",
    "    \"\"\"\n",
    "    indices = np.apply_along_axis(lambda x: np.argsort(x, axis=0)[-k:-1], 1, word_distances)\n",
    "    distant_words = np.apply_along_axis(lambda x:liste[x], 1, indices)\n",
    "    dist_words_dict = dict(zip(liste, distant_words.tolist()))\n",
    "    #return distant_words.tolist()\n",
    "    return dist_words_dict\n"
   ]
  },
  {
   "cell_type": "code",
   "execution_count": 18,
   "id": "ada651bd",
   "metadata": {},
   "outputs": [],
   "source": [
    "def cosine_sim(vector1, vector2):\n",
    "    dot_product = np.dot(vector1, vector2)\n",
    "    norm_1 = np.linalg.norm(vector1)\n",
    "    norm_2 = np.linalg.norm(vector2)\n",
    "    return dot_product / (norm_1 * norm_2)"
   ]
  },
  {
   "cell_type": "markdown",
   "id": "4b6b459f",
   "metadata": {},
   "source": [
    "## Make Semantically Similar"
   ]
  },
  {
   "cell_type": "code",
   "execution_count": 19,
   "id": "94dad8b0",
   "metadata": {},
   "outputs": [],
   "source": [
    "buff1=[]\n",
    "buff2=[]\n",
    "buff3=[]\n",
    "buff4=[]\n",
    "buff5=[]"
   ]
  },
  {
   "cell_type": "code",
   "execution_count": 20,
   "id": "8d73e5b2",
   "metadata": {},
   "outputs": [],
   "source": [
    "a=find_furthest1(1,word_distances,liste)\n",
    "v=find_nearest(11,word_distances,liste)"
   ]
  },
  {
   "cell_type": "code",
   "execution_count": 16,
   "id": "56c0eee6",
   "metadata": {},
   "outputs": [
    {
     "name": "stdout",
     "output_type": "stream",
     "text": [
      "manken\n"
     ]
    },
    {
     "data": {
      "text/plain": [
       "['garson',\n",
       " 'cansız',\n",
       " 'adam',\n",
       " 'vitrin',\n",
       " 'erkek',\n",
       " 'kız',\n",
       " 'atlet',\n",
       " 'ünlü',\n",
       " 'kadın',\n",
       " 'sanatçı']"
      ]
     },
     "execution_count": 16,
     "metadata": {},
     "output_type": "execute_result"
    }
   ],
   "source": [
    "np.random.seed(1)\n",
    "a1=random.choice(a)[0]\n",
    "print(a1)\n",
    "v[a1]"
   ]
  },
  {
   "cell_type": "code",
   "execution_count": 21,
   "id": "cad3f0a4",
   "metadata": {},
   "outputs": [
    {
     "name": "stdout",
     "output_type": "stream",
     "text": [
      "('garson', 'cansız', 0.1536839)\n",
      "('garson', 'adam', 0.4267068)\n",
      "('garson', 'vitrin', 0.2200955)\n",
      "('garson', 'erkek', 0.41633064)\n",
      "('garson', 'kız', 0.44422537)\n",
      "('garson', 'atlet', 0.25524908)\n",
      "('garson', 'ünlü', 0.2843398)\n",
      "('garson', 'kadın', 0.4235237)\n",
      "('garson', 'sanatçı', 0.33288124)\n",
      "('cansız', 'adam', 0.23637861)\n",
      "('cansız', 'vitrin', 0.18153696)\n",
      "('cansız', 'erkek', 0.30193245)\n",
      "('cansız', 'kız', 0.25415385)\n",
      "('cansız', 'atlet', 0.18338738)\n",
      "('cansız', 'ünlü', 0.2533995)\n",
      "('cansız', 'kadın', 0.27744037)\n",
      "('cansız', 'sanatçı', 0.23704235)\n",
      "('adam', 'vitrin', 0.18406092)\n",
      "('adam', 'erkek', 0.46757722)\n",
      "('adam', 'kız', 0.5034469)\n",
      "('adam', 'atlet', 0.29295433)\n",
      "('adam', 'ünlü', 0.33576322)\n",
      "('adam', 'kadın', 0.5522838)\n",
      "('adam', 'sanatçı', 0.37368125)\n",
      "('vitrin', 'erkek', 0.14987719)\n",
      "('vitrin', 'kız', 0.124673866)\n",
      "('vitrin', 'atlet', 0.14686584)\n",
      "('vitrin', 'ünlü', 0.15658283)\n",
      "('vitrin', 'kadın', 0.22206517)\n",
      "('vitrin', 'sanatçı', 0.22989714)\n",
      "('erkek', 'kız', 0.772293)\n",
      "('erkek', 'atlet', 0.35688016)\n",
      "('erkek', 'ünlü', 0.3587127)\n",
      "('erkek', 'kadın', 0.8157515)\n",
      "('erkek', 'sanatçı', 0.39231777)\n",
      "('kız', 'atlet', 0.3381047)\n",
      "('kız', 'ünlü', 0.34113154)\n",
      "('kız', 'kadın', 0.64035463)\n",
      "('kız', 'sanatçı', 0.3734267)\n",
      "('atlet', 'ünlü', 0.29574907)\n",
      "('atlet', 'kadın', 0.37427393)\n",
      "('atlet', 'sanatçı', 0.35553563)\n",
      "('ünlü', 'kadın', 0.43597695)\n",
      "('ünlü', 'sanatçı', 0.55842113)\n",
      "('kadın', 'sanatçı', 0.48124975)\n"
     ]
    }
   ],
   "source": [
    "for a,b in combinations(v[a1],2):\n",
    "  print((a,b,cosine_sim(ft[a],ft[b])))"
   ]
  },
  {
   "cell_type": "code",
   "execution_count": 22,
   "id": "8c2b3825",
   "metadata": {},
   "outputs": [],
   "source": [
    "a=find_furthest1(1,word_distances,liste)\n",
    "v=find_nearest(11,word_distances,liste)"
   ]
  },
  {
   "cell_type": "code",
   "execution_count": 23,
   "id": "4eaf9bc8",
   "metadata": {},
   "outputs": [
    {
     "name": "stdout",
     "output_type": "stream",
     "text": [
      "pıhtı\n"
     ]
    },
    {
     "data": {
      "text/plain": [
       "['kas',\n",
       " 'oksijen',\n",
       " 'kalp',\n",
       " 'ülser',\n",
       " 'köpük',\n",
       " 'peynir',\n",
       " 'tortu',\n",
       " 'kemik',\n",
       " 'kan',\n",
       " 'damar']"
      ]
     },
     "execution_count": 23,
     "metadata": {},
     "output_type": "execute_result"
    }
   ],
   "source": [
    "np.random.seed(2)\n",
    "a2=random.choice(a)[0]\n",
    "print(a2)\n",
    "v[a2]"
   ]
  },
  {
   "cell_type": "code",
   "execution_count": 24,
   "id": "a614e6b7",
   "metadata": {},
   "outputs": [
    {
     "name": "stdout",
     "output_type": "stream",
     "text": [
      "('kas', 'oksijen', 0.34896508)\n",
      "('kas', 'kalp', 0.5265113)\n",
      "('kas', 'ülser', 0.2899086)\n",
      "('kas', 'köpük', 0.2847533)\n",
      "('kas', 'peynir', 0.3267617)\n",
      "('kas', 'tortu', 0.17420603)\n",
      "('kas', 'kemik', 0.6345605)\n",
      "('kas', 'kan', 0.4411528)\n",
      "('kas', 'damar', 0.5270533)\n",
      "('oksijen', 'kalp', 0.36663246)\n",
      "('oksijen', 'ülser', 0.18245295)\n",
      "('oksijen', 'köpük', 0.36340183)\n",
      "('oksijen', 'peynir', 0.2863277)\n",
      "('oksijen', 'tortu', 0.26754034)\n",
      "('oksijen', 'kemik', 0.30258685)\n",
      "('oksijen', 'kan', 0.4820745)\n",
      "('oksijen', 'damar', 0.37026784)\n",
      "('kalp', 'ülser', 0.3589919)\n",
      "('kalp', 'köpük', 0.27661774)\n",
      "('kalp', 'peynir', 0.26222962)\n",
      "('kalp', 'tortu', 0.17736265)\n",
      "('kalp', 'kemik', 0.48511493)\n",
      "('kalp', 'kan', 0.43764475)\n",
      "('kalp', 'damar', 0.6363034)\n",
      "('ülser', 'köpük', 0.22475821)\n",
      "('ülser', 'peynir', 0.27984044)\n",
      "('ülser', 'tortu', 0.31086203)\n",
      "('ülser', 'kemik', 0.30071652)\n",
      "('ülser', 'kan', 0.24806693)\n",
      "('ülser', 'damar', 0.4092431)\n",
      "('köpük', 'peynir', 0.35236764)\n",
      "('köpük', 'tortu', 0.4464139)\n",
      "('köpük', 'kemik', 0.3160354)\n",
      "('köpük', 'kan', 0.32388893)\n",
      "('köpük', 'damar', 0.2973842)\n",
      "('peynir', 'tortu', 0.2460943)\n",
      "('peynir', 'kemik', 0.3965971)\n",
      "('peynir', 'kan', 0.32622916)\n",
      "('peynir', 'damar', 0.26832998)\n",
      "('tortu', 'kemik', 0.28098184)\n",
      "('tortu', 'kan', 0.2700621)\n",
      "('tortu', 'damar', 0.28022805)\n",
      "('kemik', 'kan', 0.47662205)\n",
      "('kemik', 'damar', 0.5344028)\n",
      "('kan', 'damar', 0.51076245)\n"
     ]
    }
   ],
   "source": [
    "for a,b in combinations(v[a2],2):\n",
    "  print((a,b,cosine_sim(ft[a],ft[b])))"
   ]
  },
  {
   "cell_type": "code",
   "execution_count": 25,
   "id": "f9669761",
   "metadata": {},
   "outputs": [],
   "source": [
    "a=find_furthest1(1,word_distances,liste)\n",
    "v=find_nearest(11,word_distances,liste)"
   ]
  },
  {
   "cell_type": "code",
   "execution_count": 26,
   "id": "c02cfa13",
   "metadata": {},
   "outputs": [
    {
     "name": "stdout",
     "output_type": "stream",
     "text": [
      "süngü\n"
     ]
    },
    {
     "data": {
      "text/plain": [
       "['tornavida',\n",
       " 'mayın',\n",
       " 'düşman',\n",
       " 'çekiç',\n",
       " 'zıpkın',\n",
       " 'barut',\n",
       " 'tabanca',\n",
       " 'mızrap',\n",
       " 'bıçak',\n",
       " 'mızrak']"
      ]
     },
     "execution_count": 26,
     "metadata": {},
     "output_type": "execute_result"
    }
   ],
   "source": [
    "np.random.seed(3)\n",
    "a3=random.choice(a)[0]\n",
    "print(a3)\n",
    "v[a3]"
   ]
  },
  {
   "cell_type": "code",
   "execution_count": 27,
   "id": "535b79c9",
   "metadata": {},
   "outputs": [
    {
     "name": "stdout",
     "output_type": "stream",
     "text": [
      "('tornavida', 'mayın', 0.16504613)\n",
      "('tornavida', 'düşman', 0.14338468)\n",
      "('tornavida', 'çekiç', 0.48687595)\n",
      "('tornavida', 'zıpkın', 0.33439058)\n",
      "('tornavida', 'barut', 0.22955278)\n",
      "('tornavida', 'tabanca', 0.43428376)\n",
      "('tornavida', 'mızrap', 0.2944047)\n",
      "('tornavida', 'bıçak', 0.5063734)\n",
      "('tornavida', 'mızrak', 0.2953616)\n",
      "('mayın', 'düşman', 0.38573578)\n",
      "('mayın', 'çekiç', 0.22403325)\n",
      "('mayın', 'zıpkın', 0.2649863)\n",
      "('mayın', 'barut', 0.3490789)\n",
      "('mayın', 'tabanca', 0.31854)\n",
      "('mayın', 'mızrap', 0.2434302)\n",
      "('mayın', 'bıçak', 0.25772595)\n",
      "('mayın', 'mızrak', 0.29887864)\n",
      "('düşman', 'çekiç', 0.16701344)\n",
      "('düşman', 'zıpkın', 0.21145436)\n",
      "('düşman', 'barut', 0.20092662)\n",
      "('düşman', 'tabanca', 0.27438182)\n",
      "('düşman', 'mızrap', 0.12354954)\n",
      "('düşman', 'bıçak', 0.24007034)\n",
      "('düşman', 'mızrak', 0.28218248)\n",
      "('çekiç', 'zıpkın', 0.38950574)\n",
      "('çekiç', 'barut', 0.25955468)\n",
      "('çekiç', 'tabanca', 0.43526953)\n",
      "('çekiç', 'mızrap', 0.40896016)\n",
      "('çekiç', 'bıçak', 0.53046095)\n",
      "('çekiç', 'mızrak', 0.43680552)\n",
      "('zıpkın', 'barut', 0.25271535)\n",
      "('zıpkın', 'tabanca', 0.42862087)\n",
      "('zıpkın', 'mızrap', 0.41121888)\n",
      "('zıpkın', 'bıçak', 0.45265713)\n",
      "('zıpkın', 'mızrak', 0.4756077)\n",
      "('barut', 'tabanca', 0.4176056)\n",
      "('barut', 'mızrap', 0.22739308)\n",
      "('barut', 'bıçak', 0.30168575)\n",
      "('barut', 'mızrak', 0.29946908)\n",
      "('tabanca', 'mızrap', 0.3592754)\n",
      "('tabanca', 'bıçak', 0.52934176)\n",
      "('tabanca', 'mızrak', 0.3645728)\n",
      "('mızrap', 'bıçak', 0.42876536)\n",
      "('mızrap', 'mızrak', 0.49722415)\n",
      "('bıçak', 'mızrak', 0.5067733)\n"
     ]
    }
   ],
   "source": [
    "for a,b in combinations(v[a3],2):\n",
    "  print((a,b,cosine_sim(ft[a],ft[b])))"
   ]
  },
  {
   "cell_type": "code",
   "execution_count": 34,
   "id": "daa7f62b",
   "metadata": {},
   "outputs": [],
   "source": [
    "a=find_furthest1(1,word_distances,liste)\n",
    "v=find_nearest(11,word_distances,liste)"
   ]
  },
  {
   "cell_type": "code",
   "execution_count": 35,
   "id": "b8640338",
   "metadata": {},
   "outputs": [
    {
     "name": "stdout",
     "output_type": "stream",
     "text": [
      "geçerlik\n"
     ]
    },
    {
     "data": {
      "text/plain": [
       "['muafiyet',\n",
       " 'başvuru',\n",
       " 'deneyim',\n",
       " 'sınav',\n",
       " 'önem',\n",
       " 'güven',\n",
       " 'yetenek',\n",
       " 'başarı',\n",
       " 'ehliyet',\n",
       " 'uygunluk']"
      ]
     },
     "execution_count": 35,
     "metadata": {},
     "output_type": "execute_result"
    }
   ],
   "source": [
    "np.random.seed(4)\n",
    "a4=random.choice(a)[0]\n",
    "print(a4)\n",
    "v[a4]"
   ]
  },
  {
   "cell_type": "code",
   "execution_count": 36,
   "id": "b5835919",
   "metadata": {},
   "outputs": [
    {
     "name": "stdout",
     "output_type": "stream",
     "text": [
      "('muafiyet', 'başvuru', 0.42001164)\n",
      "('muafiyet', 'deneyim', 0.2404232)\n",
      "('muafiyet', 'sınav', 0.34024933)\n",
      "('muafiyet', 'önem', 0.22314426)\n",
      "('muafiyet', 'güven', 0.24206416)\n",
      "('muafiyet', 'yetenek', 0.27179256)\n",
      "('muafiyet', 'başarı', 0.38931417)\n",
      "('muafiyet', 'ehliyet', 0.32153487)\n",
      "('muafiyet', 'uygunluk', 0.37608847)\n",
      "('başvuru', 'deneyim', 0.29555348)\n",
      "('başvuru', 'sınav', 0.5187373)\n",
      "('başvuru', 'önem', 0.23284738)\n",
      "('başvuru', 'güven', 0.18511657)\n",
      "('başvuru', 'yetenek', 0.2726228)\n",
      "('başvuru', 'başarı', 0.3053881)\n",
      "('başvuru', 'ehliyet', 0.333009)\n",
      "('başvuru', 'uygunluk', 0.34982327)\n",
      "('deneyim', 'sınav', 0.26937935)\n",
      "('deneyim', 'önem', 0.33287746)\n",
      "('deneyim', 'güven', 0.39715394)\n",
      "('deneyim', 'yetenek', 0.47711968)\n",
      "('deneyim', 'başarı', 0.4146964)\n",
      "('deneyim', 'ehliyet', 0.3259607)\n",
      "('deneyim', 'uygunluk', 0.36522713)\n",
      "('sınav', 'önem', 0.17251769)\n",
      "('sınav', 'güven', 0.18311343)\n",
      "('sınav', 'yetenek', 0.34375525)\n",
      "('sınav', 'başarı', 0.41455907)\n",
      "('sınav', 'ehliyet', 0.4685849)\n",
      "('sınav', 'uygunluk', 0.20403904)\n",
      "('önem', 'güven', 0.4383817)\n",
      "('önem', 'yetenek', 0.34090608)\n",
      "('önem', 'başarı', 0.37301934)\n",
      "('önem', 'ehliyet', 0.19834943)\n",
      "('önem', 'uygunluk', 0.47654444)\n",
      "('güven', 'yetenek', 0.34983096)\n",
      "('güven', 'başarı', 0.40515405)\n",
      "('güven', 'ehliyet', 0.25103432)\n",
      "('güven', 'uygunluk', 0.44238463)\n",
      "('yetenek', 'başarı', 0.44030225)\n",
      "('yetenek', 'ehliyet', 0.35102803)\n",
      "('yetenek', 'uygunluk', 0.35765776)\n",
      "('başarı', 'ehliyet', 0.23429158)\n",
      "('başarı', 'uygunluk', 0.38134205)\n",
      "('ehliyet', 'uygunluk', 0.27451)\n"
     ]
    }
   ],
   "source": [
    "for a,b in combinations(v[a4],2):\n",
    "  print((a,b,cosine_sim(ft[a],ft[b])))"
   ]
  },
  {
   "cell_type": "code",
   "execution_count": 39,
   "id": "ad1e4047",
   "metadata": {},
   "outputs": [],
   "source": [
    "a=find_furthest1(1,word_distances,liste)\n",
    "v=find_nearest(11,word_distances,liste)"
   ]
  },
  {
   "cell_type": "code",
   "execution_count": 40,
   "id": "51fdf6b3",
   "metadata": {},
   "outputs": [
    {
     "name": "stdout",
     "output_type": "stream",
     "text": [
      "payda\n"
     ]
    },
    {
     "data": {
      "text/plain": [
       "['kısım',\n",
       " 'taban',\n",
       " 'terslik',\n",
       " 'evrensel',\n",
       " 'formül',\n",
       " 'değer',\n",
       " 'gerçeklik',\n",
       " 'anlayış',\n",
       " 'eşit',\n",
       " 'amaç']"
      ]
     },
     "execution_count": 40,
     "metadata": {},
     "output_type": "execute_result"
    }
   ],
   "source": [
    "np.random.seed(5)\n",
    "a5=random.choice(a)[0]\n",
    "print(a5)\n",
    "v[a5]"
   ]
  },
  {
   "cell_type": "code",
   "execution_count": 41,
   "id": "6afcda82",
   "metadata": {},
   "outputs": [
    {
     "name": "stdout",
     "output_type": "stream",
     "text": [
      "('kısım', 'taban', 0.31804162)\n",
      "('kısım', 'terslik', 0.20147318)\n",
      "('kısım', 'evrensel', 0.14393163)\n",
      "('kısım', 'formül', 0.24059427)\n",
      "('kısım', 'değer', 0.22624159)\n",
      "('kısım', 'gerçeklik', 0.24036475)\n",
      "('kısım', 'anlayış', 0.23587345)\n",
      "('kısım', 'eşit', 0.19465567)\n",
      "('kısım', 'amaç', 0.25280246)\n",
      "('taban', 'terslik', 0.04003116)\n",
      "('taban', 'evrensel', 0.21750917)\n",
      "('taban', 'formül', 0.25204143)\n",
      "('taban', 'değer', 0.21307136)\n",
      "('taban', 'gerçeklik', 0.29492638)\n",
      "('taban', 'anlayış', 0.2586592)\n",
      "('taban', 'eşit', 0.23636486)\n",
      "('taban', 'amaç', 0.22051458)\n",
      "('terslik', 'evrensel', 0.22911568)\n",
      "('terslik', 'formül', 0.19502045)\n",
      "('terslik', 'değer', 0.21361071)\n",
      "('terslik', 'gerçeklik', 0.31166998)\n",
      "('terslik', 'anlayış', 0.2713324)\n",
      "('terslik', 'eşit', 0.14747515)\n",
      "('terslik', 'amaç', 0.2899061)\n",
      "('evrensel', 'formül', 0.27942607)\n",
      "('evrensel', 'değer', 0.3701899)\n",
      "('evrensel', 'gerçeklik', 0.42101452)\n",
      "('evrensel', 'anlayış', 0.4455154)\n",
      "('evrensel', 'eşit', 0.38002884)\n",
      "('evrensel', 'amaç', 0.3569)\n",
      "('formül', 'değer', 0.23415755)\n",
      "('formül', 'gerçeklik', 0.25253266)\n",
      "('formül', 'anlayış', 0.3060011)\n",
      "('formül', 'eşit', 0.23465562)\n",
      "('formül', 'amaç', 0.30489337)\n",
      "('değer', 'gerçeklik', 0.3173649)\n",
      "('değer', 'anlayış', 0.37889552)\n",
      "('değer', 'eşit', 0.31668875)\n",
      "('değer', 'amaç', 0.33407214)\n",
      "('gerçeklik', 'anlayış', 0.37970582)\n",
      "('gerçeklik', 'eşit', 0.16875547)\n",
      "('gerçeklik', 'amaç', 0.31318942)\n",
      "('anlayış', 'eşit', 0.22332034)\n",
      "('anlayış', 'amaç', 0.41724035)\n",
      "('eşit', 'amaç', 0.1773094)\n"
     ]
    }
   ],
   "source": [
    "for a,b in combinations(v[a5],2):\n",
    "  print((a,b,cosine_sim(ft[a],ft[b])))"
   ]
  },
  {
   "cell_type": "markdown",
   "id": "761321a8",
   "metadata": {},
   "source": [
    "## Make Semantically Dissimilar"
   ]
  },
  {
   "cell_type": "markdown",
   "id": "9bc02cfb",
   "metadata": {},
   "source": [
    "To make a semantically dissimilar words list, define a condition in which the loop stops until reach the new list reaches \"list_length\" length. Create a new list by adding items from the list, and items are added according to \"word_distances\" but randomly choose items from the list of the first five most distant items. If the pairwise combination of items of the list of cosine similarity is higher than 0.15, I add them to a list (temp), then turn the list to a set (due to sets having unique items but no copy of it), then get the difference from the set which of all item to set which have items which have higher than 0.15 cosine similarity concerning pairwise combination"
   ]
  },
  {
   "cell_type": "code",
   "execution_count": 62,
   "id": "4f959705",
   "metadata": {},
   "outputs": [],
   "source": [
    "def random_dist_creator(word_distances,liste,list_length,threshold=0.15):\n",
    "    temp9=[]\n",
    "    temp=[]\n",
    "    u=[]\n",
    "    temp9.append(liste[np.argpartition(word_distances[random.randint(0,len(liste))],\n",
    "                                                                random.randint(0,5))[random.randint(0,5)]])\n",
    "   \n",
    "    while True:\n",
    "        if (len(u)==list_length):\n",
    "            break\n",
    "        a= random.randint(0,len(liste))\n",
    "        b= random.randint(0,5)\n",
    "\n",
    "        index=np.argpartition(word_distances[a], b)[b]          \n",
    "        temp9.append(liste[index])\n",
    "        for a,b in combinations(temp9,2):\n",
    "            if(threshold<cosine_sim(ft[a],ft[b])):\n",
    "                temp.append(a)\n",
    "        u=list(set(temp9) - set(temp))\n",
    "    return u"
   ]
  },
  {
   "cell_type": "code",
   "execution_count": 57,
   "id": "cb092ff3",
   "metadata": {
    "scrolled": true
   },
   "outputs": [
    {
     "data": {
      "text/plain": [
       "['soytarı',\n",
       " 'tabure',\n",
       " 'nakavt',\n",
       " 'ağarma',\n",
       " 'sondaj',\n",
       " 'izlenim',\n",
       " 'muson',\n",
       " 'peşinat',\n",
       " 'boza',\n",
       " 'lehçe']"
      ]
     },
     "execution_count": 57,
     "metadata": {},
     "output_type": "execute_result"
    }
   ],
   "source": [
    "p=random_dist_creator(word_distances,liste,10,0.22)\n",
    "p"
   ]
  },
  {
   "cell_type": "code",
   "execution_count": 58,
   "id": "f04e83d6",
   "metadata": {},
   "outputs": [
    {
     "name": "stdout",
     "output_type": "stream",
     "text": [
      "('soytarı', 'tabure', 0.14455254)\n",
      "('soytarı', 'nakavt', 0.13422199)\n",
      "('soytarı', 'ağarma', 0.010365224)\n",
      "('soytarı', 'sondaj', 0.047114883)\n",
      "('soytarı', 'izlenim', 0.02700087)\n",
      "('soytarı', 'muson', 0.12143058)\n",
      "('soytarı', 'peşinat', -0.04558849)\n",
      "('soytarı', 'boza', 0.12416706)\n",
      "('soytarı', 'lehçe', 0.1489039)\n",
      "('tabure', 'nakavt', 0.0888601)\n",
      "('tabure', 'ağarma', 0.14693369)\n",
      "('tabure', 'sondaj', 0.12937437)\n",
      "('tabure', 'izlenim', 0.053701058)\n",
      "('tabure', 'muson', 0.01062541)\n",
      "('tabure', 'peşinat', 0.11758899)\n",
      "('tabure', 'boza', 0.14467171)\n",
      "('tabure', 'lehçe', 0.028319964)\n",
      "('nakavt', 'ağarma', 0.056440677)\n",
      "('nakavt', 'sondaj', 0.08723034)\n",
      "('nakavt', 'izlenim', 0.048534676)\n",
      "('nakavt', 'muson', 0.14481653)\n",
      "('nakavt', 'peşinat', 0.089696616)\n",
      "('nakavt', 'boza', 0.074704655)\n",
      "('nakavt', 'lehçe', 0.09668135)\n",
      "('ağarma', 'sondaj', 0.16018821)\n",
      "('ağarma', 'izlenim', 0.105664656)\n",
      "('ağarma', 'muson', 0.13551085)\n",
      "('ağarma', 'peşinat', 0.07230286)\n",
      "('ağarma', 'boza', 0.12389574)\n",
      "('ağarma', 'lehçe', 0.13424627)\n",
      "('sondaj', 'izlenim', 0.024909751)\n",
      "('sondaj', 'muson', 0.1364391)\n",
      "('sondaj', 'peşinat', 0.11850665)\n",
      "('sondaj', 'boza', 0.06760745)\n",
      "('sondaj', 'lehçe', 0.06179105)\n",
      "('izlenim', 'muson', 0.06988755)\n",
      "('izlenim', 'peşinat', 0.16496542)\n",
      "('izlenim', 'boza', -0.035873678)\n",
      "('izlenim', 'lehçe', 0.12958628)\n",
      "('muson', 'peşinat', 0.053833976)\n",
      "('muson', 'boza', 0.08269375)\n",
      "('muson', 'lehçe', 0.08813106)\n",
      "('peşinat', 'boza', 0.055486314)\n",
      "('peşinat', 'lehçe', 0.06485236)\n",
      "('boza', 'lehçe', 0.045746684)\n"
     ]
    }
   ],
   "source": [
    "for a,b in combinations(p,2):\n",
    "  print((a,b,cosine_sim(ft[a],ft[b])))"
   ]
  },
  {
   "cell_type": "code",
   "execution_count": 66,
   "id": "34e53713",
   "metadata": {
    "scrolled": true
   },
   "outputs": [],
   "source": [
    "# crate 80 items that include each list's item less than 0.15\n",
    "res=[]\n",
    "i=0\n",
    "while i<5:\n",
    "    res.append(random_dist_creator(word_distances,liste,10,0.22))\n",
    "    i=i+1\n"
   ]
  },
  {
   "cell_type": "code",
   "execution_count": 67,
   "id": "c34c66fc",
   "metadata": {},
   "outputs": [
    {
     "data": {
      "text/plain": [
       "[['ibre',\n",
       "  'matara',\n",
       "  'öncülük',\n",
       "  'çalıntı',\n",
       "  'fobi',\n",
       "  'ibraz',\n",
       "  'çeyiz',\n",
       "  'adres',\n",
       "  'sohbet',\n",
       "  'müşfik'],\n",
       " ['cılık',\n",
       "  'uyum',\n",
       "  'elem',\n",
       "  'hayta',\n",
       "  'otel',\n",
       "  'faks',\n",
       "  'ibrik',\n",
       "  'çıkıntı',\n",
       "  'ibare',\n",
       "  'payda'],\n",
       " ['imza',\n",
       "  'şüphe',\n",
       "  'zakkum',\n",
       "  'abajur',\n",
       "  'avare',\n",
       "  'gıcırtı',\n",
       "  'punto',\n",
       "  'sezon',\n",
       "  'koç',\n",
       "  'müşfik'],\n",
       " ['abaküs',\n",
       "  'adele',\n",
       "  'röfle',\n",
       "  'aforoz',\n",
       "  'muson',\n",
       "  'kepenk',\n",
       "  'garanti',\n",
       "  'adak',\n",
       "  'külot',\n",
       "  'paragraf'],\n",
       " ['yorum',\n",
       "  'içtenlik',\n",
       "  'köşk',\n",
       "  'eczane',\n",
       "  'punto',\n",
       "  'hısım',\n",
       "  'gram',\n",
       "  'afiyet',\n",
       "  'çöküş',\n",
       "  'serseri']]"
      ]
     },
     "execution_count": 67,
     "metadata": {},
     "output_type": "execute_result"
    }
   ],
   "source": [
    "res"
   ]
  },
  {
   "cell_type": "markdown",
   "id": "81be0e64",
   "metadata": {},
   "source": [
    "# Stats and Graphs"
   ]
  },
  {
   "cell_type": "code",
   "execution_count": 68,
   "id": "070c1a2b",
   "metadata": {},
   "outputs": [],
   "source": [
    "from scipy.stats import mannwhitneyu\n",
    "import matplotlib.pyplot as plt\n"
   ]
  },
  {
   "cell_type": "markdown",
   "id": "f9e7da0e",
   "metadata": {},
   "source": [
    "get cosine similarity values of similar lists and dissimilar lists."
   ]
  },
  {
   "cell_type": "markdown",
   "id": "88ece5ba",
   "metadata": {},
   "source": [
    "first get similar ones"
   ]
  },
  {
   "cell_type": "code",
   "execution_count": 69,
   "id": "9ef9903d",
   "metadata": {},
   "outputs": [],
   "source": [
    "for a,b in combinations(v[a1],2):\n",
    "  buff1.append(cosine_sim(ft[a],ft[b]))"
   ]
  },
  {
   "cell_type": "code",
   "execution_count": 70,
   "id": "76b500d2",
   "metadata": {},
   "outputs": [],
   "source": [
    "for a,b in combinations(v[a2],2):\n",
    "  buff2.append(cosine_sim(ft[a],ft[b]))"
   ]
  },
  {
   "cell_type": "code",
   "execution_count": 71,
   "id": "5be96dc9",
   "metadata": {},
   "outputs": [],
   "source": [
    "for a,b in combinations(v[a3],2):\n",
    "  buff3.append(cosine_sim(ft[a],ft[b]))"
   ]
  },
  {
   "cell_type": "code",
   "execution_count": 72,
   "id": "513fb880",
   "metadata": {},
   "outputs": [],
   "source": [
    "for a,b in combinations(v[a4],2):\n",
    "  buff4.append(cosine_sim(ft[a],ft[b]))"
   ]
  },
  {
   "cell_type": "code",
   "execution_count": 73,
   "id": "bb84c76b",
   "metadata": {},
   "outputs": [],
   "source": [
    "for a,b in combinations(v[a5],2):\n",
    "  buff5.append(cosine_sim(ft[a],ft[b]))"
   ]
  },
  {
   "cell_type": "markdown",
   "id": "70da1e67",
   "metadata": {},
   "source": [
    "then get dissimilar ones"
   ]
  },
  {
   "cell_type": "code",
   "execution_count": 74,
   "id": "a929a1c7",
   "metadata": {},
   "outputs": [],
   "source": [
    "buff6=[]\n",
    "buff7=[]\n",
    "buff8=[]\n",
    "buff9=[]\n",
    "buff10=[]"
   ]
  },
  {
   "cell_type": "code",
   "execution_count": 75,
   "id": "6fac3448",
   "metadata": {},
   "outputs": [],
   "source": [
    "for a,b in combinations(res[0],2):\n",
    "  buff6.append(cosine_sim(ft[a],ft[b]))"
   ]
  },
  {
   "cell_type": "code",
   "execution_count": 76,
   "id": "ef24c706",
   "metadata": {},
   "outputs": [],
   "source": [
    "for a,b in combinations(res[1],2):\n",
    "  buff7.append(cosine_sim(ft[a],ft[b]))"
   ]
  },
  {
   "cell_type": "code",
   "execution_count": 77,
   "id": "fbfe167b",
   "metadata": {},
   "outputs": [],
   "source": [
    "for a,b in combinations(res[2],2):\n",
    "  buff8.append(cosine_sim(ft[a],ft[b]))"
   ]
  },
  {
   "cell_type": "code",
   "execution_count": 78,
   "id": "4f698f7d",
   "metadata": {},
   "outputs": [],
   "source": [
    "for a,b in combinations(res[3],2):\n",
    "  buff9.append(cosine_sim(ft[a],ft[b]))"
   ]
  },
  {
   "cell_type": "code",
   "execution_count": 79,
   "id": "2fb39818",
   "metadata": {},
   "outputs": [],
   "source": [
    "for a,b in combinations(res[4],2):\n",
    "  buff10.append(cosine_sim(ft[a],ft[b]))"
   ]
  },
  {
   "cell_type": "code",
   "execution_count": 80,
   "id": "b48abcdd",
   "metadata": {},
   "outputs": [
    {
     "data": {
      "image/png": "[encoded data removed]",
      "text/plain": [
       "<Figure size 640x480 with 1 Axes>"
      ]
     },
     "metadata": {},
     "output_type": "display_data"
    }
   ],
   "source": [
    "#graphs\n",
    "a= buff1 # similar\n",
    "b=buff2\n",
    "c=buff3\n",
    "d=buff4\n",
    "e=buff5\n",
    "\n",
    "f= buff6 # dissimilar\n",
    "g=buff7\n",
    "h=buff8\n",
    "j=buff9\n",
    "k=buff10\n",
    "\n",
    "\n",
    "fig, ax = plt.subplots()\n",
    "\n",
    "plt.xlabel('item number') \n",
    "plt.ylabel('cosine similarity') \n",
    "plt.title(\"Similar/Dissimilar Cosine Similarity Results\")\n",
    "\n",
    "\n",
    "ax.plot(a,linewidth=1.0)\n",
    "ax.plot(b,linewidth=1.0)\n",
    "ax.plot(c,linewidth=1.0)\n",
    "ax.plot(d,linewidth=1.0)\n",
    "ax.plot(e,linewidth=1.0)\n",
    "\n",
    "ax.plot(f,linewidth=1.0)\n",
    "ax.plot(g,linewidth=1.0)\n",
    "ax.plot(h,linewidth=1.0)\n",
    "ax.plot(j,linewidth=1.0)\n",
    "ax.plot(k,linewidth=1.0)\n",
    "\n",
    "\n",
    "\n",
    "\n",
    "\n",
    "\n",
    "plt.show()"
   ]
  },
  {
   "cell_type": "code",
   "execution_count": 81,
   "id": "4e590fd4",
   "metadata": {},
   "outputs": [],
   "source": [
    "similar=[]\n",
    "similar=[a,b,c,d,e]\n",
    "similar= np.array(similar)\n",
    "similar=similar.flatten()\n",
    "\n",
    "\n",
    "dissimilar=[]\n",
    "dissimilar=[f,g,h,j,k]\n",
    "dissimilar= np.array(dissimilar)\n",
    "dissimilar=dissimilar.flatten()\n"
   ]
  },
  {
   "cell_type": "code",
   "execution_count": 82,
   "id": "72a547ab",
   "metadata": {},
   "outputs": [
    {
     "name": "stdout",
     "output_type": "stream",
     "text": [
      "Statistics=49578.000, p=0.00\n"
     ]
    }
   ],
   "source": [
    "stat, p = mannwhitneyu(similar, dissimilar)\n",
    "print('Statistics=%.3f, p=%.2f' % (stat, p))"
   ]
  },
  {
   "cell_type": "code",
   "execution_count": null,
   "id": "5af7f4c9",
   "metadata": {},
   "outputs": [],
   "source": []
  }
 ],
 "metadata": {
  "kernelspec": {
   "display_name": "Python 3 (ipykernel)",
   "language": "python",
   "name": "python3"
  },
  "language_info": {
   "codemirror_mode": {
    "name": "ipython",
    "version": 3
   },
   "file_extension": ".py",
   "mimetype": "text/x-python",
   "name": "python",
   "nbconvert_exporter": "python",
   "pygments_lexer": "ipython3",
   "version": "3.9.13"
  },
  "vscode": {
   "interpreter": {
    "hash": "6a5735bfd9c536cc43fec879f2176fd9350c5b4e6d6c8f0ffd8effd4d828448f"
   }
  }
 },
 "nbformat": 4,
 "nbformat_minor": 5
}
